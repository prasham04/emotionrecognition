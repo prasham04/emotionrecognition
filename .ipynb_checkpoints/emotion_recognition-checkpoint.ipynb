{
 "cells": [
  {
   "cell_type": "code",
   "execution_count": 41,
   "id": "b8fa9459-dd18-41ce-9a08-8ff08ff273a1",
   "metadata": {
    "id": "b8fa9459-dd18-41ce-9a08-8ff08ff273a1"
   },
   "outputs": [],
   "source": [
    "import pandas as pd\n",
    "import numpy as np\n",
    "import os\n",
    "import matplotlib.pyplot as plt\n",
    "import seaborn as sns\n",
    "import warnings\n",
    "import random\n",
    "from tqdm.notebook import tqdm\n",
    "warnings.filterwarnings('ignore')\n",
    "%matplotlib inline\n",
    "\n",
    "import tensorflow as tf\n",
    "from tensorflow.keras.utils import to_categorical\n",
    "from keras.preprocessing.image import load_img\n",
    "from keras.models import Sequential\n",
    "from keras.layers import Dense, Conv2D, Dropout, Flatten, MaxPooling2D,BatchNormalization\n",
    "from tensorflow.keras.callbacks import Callback, EarlyStopping, ReduceLROnPlateau\n",
    "from tensorflow.keras.preprocessing.image import ImageDataGenerator\n",
    "from sklearn.metrics import confusion_matrix"
   ]
  },
  {
   "cell_type": "code",
   "execution_count": 42,
   "id": "xXFUwowoXe2F",
   "metadata": {
    "colab": {
     "base_uri": "https://localhost:8080/"
    },
    "id": "xXFUwowoXe2F",
    "outputId": "b8ec4346-06ec-4e7d-c1cc-3e1eba610f74"
   },
   "outputs": [],
   "source": [
    "# import kagglehub\n",
    "\n",
    "# # Download latest version\n",
    "# path = kagglehub.dataset_download(\"aadityasinghal/facial-expression-dataset\")\n",
    "\n",
    "# print(\"Path to dataset files:\", path)"
   ]
  },
  {
   "cell_type": "code",
   "execution_count": 58,
   "id": "8983287f-e407-4750-b301-419d623bd6c2",
   "metadata": {
    "id": "8983287f-e407-4750-b301-419d623bd6c2"
   },
   "outputs": [],
   "source": [
    "TRAIN_DIR = 'OneDrive/Desktop/machine learning/emotionrecognition/archive/train/train/'\n",
    "TEST_DIR = 'OneDrive/Desktop/machine learning/emotionrecognition/archive/test/test/'"
   ]
  },
  {
   "cell_type": "code",
   "execution_count": 60,
   "id": "72c36949-e5b1-4ebd-8211-9dbf2d47f6cf",
   "metadata": {
    "id": "72c36949-e5b1-4ebd-8211-9dbf2d47f6cf"
   },
   "outputs": [],
   "source": [
    "\n",
    "def load_dataset(directory):\n",
    "    image_paths = []\n",
    "    labels = []\n",
    "\n",
    "    for label in os.listdir(directory):\n",
    "        for filename in os.listdir(directory+label):\n",
    "            image_path = os.path.join(directory, label, filename)\n",
    "            image_paths.append(image_path)\n",
    "            labels.append(label)\n",
    "\n",
    "        print(label, \"Completed\")\n",
    "\n",
    "    return image_paths, labels"
   ]
  },
  {
   "cell_type": "code",
   "execution_count": 62,
   "id": "e03b9e47-efe0-491a-83c6-83abca948b44",
   "metadata": {
    "colab": {
     "base_uri": "https://localhost:8080/",
     "height": 327
    },
    "id": "e03b9e47-efe0-491a-83c6-83abca948b44",
    "outputId": "1d329e1d-a957-444a-e8be-5981909741c1"
   },
   "outputs": [
    {
     "ename": "FileNotFoundError",
     "evalue": "[WinError 3] The system cannot find the path specified: 'OneDrive/Desktop/machine learning/emotionrecognition/archive/train/train/'",
     "output_type": "error",
     "traceback": [
      "\u001b[1;31m---------------------------------------------------------------------------\u001b[0m",
      "\u001b[1;31mFileNotFoundError\u001b[0m                         Traceback (most recent call last)",
      "Cell \u001b[1;32mIn[62], line 3\u001b[0m\n\u001b[0;32m      1\u001b[0m \u001b[38;5;66;03m## convert into dataframe\u001b[39;00m\n\u001b[0;32m      2\u001b[0m train \u001b[38;5;241m=\u001b[39m pd\u001b[38;5;241m.\u001b[39mDataFrame()\n\u001b[1;32m----> 3\u001b[0m train[\u001b[38;5;124m'\u001b[39m\u001b[38;5;124mimage\u001b[39m\u001b[38;5;124m'\u001b[39m], train[\u001b[38;5;124m'\u001b[39m\u001b[38;5;124mlabel\u001b[39m\u001b[38;5;124m'\u001b[39m] \u001b[38;5;241m=\u001b[39m load_dataset(TRAIN_DIR)\n\u001b[0;32m      4\u001b[0m \u001b[38;5;66;03m# shuffle the dataset\u001b[39;00m\n\u001b[0;32m      5\u001b[0m train \u001b[38;5;241m=\u001b[39m train\u001b[38;5;241m.\u001b[39msample(frac\u001b[38;5;241m=\u001b[39m\u001b[38;5;241m1\u001b[39m)\u001b[38;5;241m.\u001b[39mreset_index(drop\u001b[38;5;241m=\u001b[39m\u001b[38;5;28;01mTrue\u001b[39;00m)\n",
      "Cell \u001b[1;32mIn[60], line 5\u001b[0m, in \u001b[0;36mload_dataset\u001b[1;34m(directory)\u001b[0m\n\u001b[0;32m      2\u001b[0m image_paths \u001b[38;5;241m=\u001b[39m []\n\u001b[0;32m      3\u001b[0m labels \u001b[38;5;241m=\u001b[39m []\n\u001b[1;32m----> 5\u001b[0m \u001b[38;5;28;01mfor\u001b[39;00m label \u001b[38;5;129;01min\u001b[39;00m os\u001b[38;5;241m.\u001b[39mlistdir(directory):\n\u001b[0;32m      6\u001b[0m     \u001b[38;5;28;01mfor\u001b[39;00m filename \u001b[38;5;129;01min\u001b[39;00m os\u001b[38;5;241m.\u001b[39mlistdir(directory\u001b[38;5;241m+\u001b[39mlabel):\n\u001b[0;32m      7\u001b[0m         image_path \u001b[38;5;241m=\u001b[39m os\u001b[38;5;241m.\u001b[39mpath\u001b[38;5;241m.\u001b[39mjoin(directory, label, filename)\n",
      "\u001b[1;31mFileNotFoundError\u001b[0m: [WinError 3] The system cannot find the path specified: 'OneDrive/Desktop/machine learning/emotionrecognition/archive/train/train/'"
     ]
    }
   ],
   "source": [
    "## convert into dataframe\n",
    "train = pd.DataFrame()\n",
    "train['image'], train['label'] = load_dataset(TRAIN_DIR)\n",
    "# shuffle the dataset\n",
    "train = train.sample(frac=1).reset_index(drop=True)\n",
    "train.head()"
   ]
  },
  {
   "cell_type": "code",
   "execution_count": 46,
   "id": "d42e99f9-5cea-4c9a-8d3c-2a1901d390c0",
   "metadata": {
    "colab": {
     "base_uri": "https://localhost:8080/",
     "height": 327
    },
    "id": "d42e99f9-5cea-4c9a-8d3c-2a1901d390c0",
    "outputId": "06211fd6-5a29-4e1f-b5fb-a2debae57e4a"
   },
   "outputs": [
    {
     "name": "stdout",
     "output_type": "stream",
     "text": [
      "angry Completed\n",
      "disgust Completed\n",
      "fear Completed\n",
      "happy Completed\n",
      "neutral Completed\n",
      "sad Completed\n",
      "surprise Completed\n"
     ]
    },
    {
     "data": {
      "text/html": [
       "<div>\n",
       "<style scoped>\n",
       "    .dataframe tbody tr th:only-of-type {\n",
       "        vertical-align: middle;\n",
       "    }\n",
       "\n",
       "    .dataframe tbody tr th {\n",
       "        vertical-align: top;\n",
       "    }\n",
       "\n",
       "    .dataframe thead th {\n",
       "        text-align: right;\n",
       "    }\n",
       "</style>\n",
       "<table border=\"1\" class=\"dataframe\">\n",
       "  <thead>\n",
       "    <tr style=\"text-align: right;\">\n",
       "      <th></th>\n",
       "      <th>image</th>\n",
       "      <th>label</th>\n",
       "    </tr>\n",
       "  </thead>\n",
       "  <tbody>\n",
       "  </tbody>\n",
       "</table>\n",
       "</div>"
      ],
      "text/plain": [
       "Empty DataFrame\n",
       "Columns: [image, label]\n",
       "Index: []"
      ]
     },
     "execution_count": 46,
     "metadata": {},
     "output_type": "execute_result"
    }
   ],
   "source": [
    "test = pd.DataFrame()\n",
    "test['image'], test['label'] = load_dataset(TEST_DIR)\n",
    "test.head()"
   ]
  },
  {
   "cell_type": "markdown",
   "id": "0c197344-e15b-4f72-b6fc-9217885935f7",
   "metadata": {
    "id": "0c197344-e15b-4f72-b6fc-9217885935f7"
   },
   "source": [
    "## Exploratory Data Analysis"
   ]
  },
  {
   "cell_type": "code",
   "execution_count": 48,
   "id": "7778c386-e6e9-4c0e-b625-03b84794aeba",
   "metadata": {
    "colab": {
     "base_uri": "https://localhost:8080/",
     "height": 466
    },
    "id": "7778c386-e6e9-4c0e-b625-03b84794aeba",
    "outputId": "59d3272b-25a6-4013-99c5-e5cff64df8e0"
   },
   "outputs": [
    {
     "data": {
      "text/plain": [
       "<Axes: >"
      ]
     },
     "execution_count": 48,
     "metadata": {},
     "output_type": "execute_result"
    },
    {
     "data": {
      "image/png": "[encoded data removed]",
      "text/plain": [
       "<Figure size 640x480 with 1 Axes>"
      ]
     },
     "metadata": {},
     "output_type": "display_data"
    }
   ],
   "source": [
    "sns.countplot(train['label'])\n"
   ]
  },
  {
   "cell_type": "code",
   "execution_count": 49,
   "id": "692f4df7-83e9-4db0-96ce-d7bce8c93985",
   "metadata": {
    "colab": {
     "base_uri": "https://localhost:8080/",
     "height": 431
    },
    "id": "692f4df7-83e9-4db0-96ce-d7bce8c93985",
    "outputId": "5028d888-e6f9-42bb-dffa-c72d499a1df0"
   },
   "outputs": [
    {
     "ename": "KeyError",
     "evalue": "0",
     "output_type": "error",
     "traceback": [
      "\u001b[1;31m---------------------------------------------------------------------------\u001b[0m",
      "\u001b[1;31mValueError\u001b[0m                                Traceback (most recent call last)",
      "File \u001b[1;32m~\\anaconda3\\Lib\\site-packages\\pandas\\core\\indexes\\range.py:413\u001b[0m, in \u001b[0;36mRangeIndex.get_loc\u001b[1;34m(self, key)\u001b[0m\n\u001b[0;32m    412\u001b[0m \u001b[38;5;28;01mtry\u001b[39;00m:\n\u001b[1;32m--> 413\u001b[0m     \u001b[38;5;28;01mreturn\u001b[39;00m \u001b[38;5;28mself\u001b[39m\u001b[38;5;241m.\u001b[39m_range\u001b[38;5;241m.\u001b[39mindex(new_key)\n\u001b[0;32m    414\u001b[0m \u001b[38;5;28;01mexcept\u001b[39;00m \u001b[38;5;167;01mValueError\u001b[39;00m \u001b[38;5;28;01mas\u001b[39;00m err:\n",
      "\u001b[1;31mValueError\u001b[0m: 0 is not in range",
      "\nThe above exception was the direct cause of the following exception:\n",
      "\u001b[1;31mKeyError\u001b[0m                                  Traceback (most recent call last)",
      "Cell \u001b[1;32mIn[49], line 2\u001b[0m\n\u001b[0;32m      1\u001b[0m \u001b[38;5;28;01mfrom\u001b[39;00m \u001b[38;5;21;01mPIL\u001b[39;00m \u001b[38;5;28;01mimport\u001b[39;00m Image\n\u001b[1;32m----> 2\u001b[0m img \u001b[38;5;241m=\u001b[39m Image\u001b[38;5;241m.\u001b[39mopen(train[\u001b[38;5;124m'\u001b[39m\u001b[38;5;124mimage\u001b[39m\u001b[38;5;124m'\u001b[39m][\u001b[38;5;241m0\u001b[39m])\n\u001b[0;32m      3\u001b[0m plt\u001b[38;5;241m.\u001b[39mimshow(img, cmap\u001b[38;5;241m=\u001b[39m\u001b[38;5;124m'\u001b[39m\u001b[38;5;124mgray\u001b[39m\u001b[38;5;124m'\u001b[39m)\n",
      "File \u001b[1;32m~\\anaconda3\\Lib\\site-packages\\pandas\\core\\series.py:1121\u001b[0m, in \u001b[0;36mSeries.__getitem__\u001b[1;34m(self, key)\u001b[0m\n\u001b[0;32m   1118\u001b[0m     \u001b[38;5;28;01mreturn\u001b[39;00m \u001b[38;5;28mself\u001b[39m\u001b[38;5;241m.\u001b[39m_values[key]\n\u001b[0;32m   1120\u001b[0m \u001b[38;5;28;01melif\u001b[39;00m key_is_scalar:\n\u001b[1;32m-> 1121\u001b[0m     \u001b[38;5;28;01mreturn\u001b[39;00m \u001b[38;5;28mself\u001b[39m\u001b[38;5;241m.\u001b[39m_get_value(key)\n\u001b[0;32m   1123\u001b[0m \u001b[38;5;66;03m# Convert generator to list before going through hashable part\u001b[39;00m\n\u001b[0;32m   1124\u001b[0m \u001b[38;5;66;03m# (We will iterate through the generator there to check for slices)\u001b[39;00m\n\u001b[0;32m   1125\u001b[0m \u001b[38;5;28;01mif\u001b[39;00m is_iterator(key):\n",
      "File \u001b[1;32m~\\anaconda3\\Lib\\site-packages\\pandas\\core\\series.py:1237\u001b[0m, in \u001b[0;36mSeries._get_value\u001b[1;34m(self, label, takeable)\u001b[0m\n\u001b[0;32m   1234\u001b[0m     \u001b[38;5;28;01mreturn\u001b[39;00m \u001b[38;5;28mself\u001b[39m\u001b[38;5;241m.\u001b[39m_values[label]\n\u001b[0;32m   1236\u001b[0m \u001b[38;5;66;03m# Similar to Index.get_value, but we do not fall back to positional\u001b[39;00m\n\u001b[1;32m-> 1237\u001b[0m loc \u001b[38;5;241m=\u001b[39m \u001b[38;5;28mself\u001b[39m\u001b[38;5;241m.\u001b[39mindex\u001b[38;5;241m.\u001b[39mget_loc(label)\n\u001b[0;32m   1239\u001b[0m \u001b[38;5;28;01mif\u001b[39;00m is_integer(loc):\n\u001b[0;32m   1240\u001b[0m     \u001b[38;5;28;01mreturn\u001b[39;00m \u001b[38;5;28mself\u001b[39m\u001b[38;5;241m.\u001b[39m_values[loc]\n",
      "File \u001b[1;32m~\\anaconda3\\Lib\\site-packages\\pandas\\core\\indexes\\range.py:415\u001b[0m, in \u001b[0;36mRangeIndex.get_loc\u001b[1;34m(self, key)\u001b[0m\n\u001b[0;32m    413\u001b[0m         \u001b[38;5;28;01mreturn\u001b[39;00m \u001b[38;5;28mself\u001b[39m\u001b[38;5;241m.\u001b[39m_range\u001b[38;5;241m.\u001b[39mindex(new_key)\n\u001b[0;32m    414\u001b[0m     \u001b[38;5;28;01mexcept\u001b[39;00m \u001b[38;5;167;01mValueError\u001b[39;00m \u001b[38;5;28;01mas\u001b[39;00m err:\n\u001b[1;32m--> 415\u001b[0m         \u001b[38;5;28;01mraise\u001b[39;00m \u001b[38;5;167;01mKeyError\u001b[39;00m(key) \u001b[38;5;28;01mfrom\u001b[39;00m \u001b[38;5;21;01merr\u001b[39;00m\n\u001b[0;32m    416\u001b[0m \u001b[38;5;28;01mif\u001b[39;00m \u001b[38;5;28misinstance\u001b[39m(key, Hashable):\n\u001b[0;32m    417\u001b[0m     \u001b[38;5;28;01mraise\u001b[39;00m \u001b[38;5;167;01mKeyError\u001b[39;00m(key)\n",
      "\u001b[1;31mKeyError\u001b[0m: 0"
     ]
    }
   ],
   "source": [
    "from PIL import Image\n",
    "img = Image.open(train['image'][0])\n",
    "plt.imshow(img, cmap='gray');\n"
   ]
  },
  {
   "cell_type": "code",
   "execution_count": null,
   "id": "831e62cd-3f68-4594-adb6-115a56541030",
   "metadata": {
    "colab": {
     "base_uri": "https://localhost:8080/",
     "height": 883
    },
    "id": "831e62cd-3f68-4594-adb6-115a56541030",
    "outputId": "7ea6fd50-72d8-40ee-9d7d-3f9e3d8e0646"
   },
   "outputs": [],
   "source": [
    "# to display grid of images\n",
    "plt.figure(figsize=(20,20))\n",
    "files = train.iloc[0:25]\n",
    "\n",
    "for index, file, label in files.itertuples():\n",
    "    plt.subplot(5, 5, index+1)\n",
    "    img = load_img(file)\n",
    "    img = np.array(img)\n",
    "    plt.imshow(img)\n",
    "    plt.title(label)\n",
    "    plt.axis('off')"
   ]
  },
  {
   "cell_type": "code",
   "execution_count": null,
   "id": "b56b10dc-0346-4c03-ab10-9b790e088c74",
   "metadata": {
    "id": "b56b10dc-0346-4c03-ab10-9b790e088c74"
   },
   "outputs": [],
   "source": [
    "def extract_features(images):\n",
    "    features = []\n",
    "    for image in tqdm(images):\n",
    "        img = load_img(image, color_mode='grayscale')\n",
    "        img = np.array(img)\n",
    "        features.append(img)\n",
    "    features = np.array(features)\n",
    "    features = features.reshape(len(features), 48, 48, 1)\n",
    "    return features"
   ]
  },
  {
   "cell_type": "code",
   "execution_count": null,
   "id": "59b7c50c-46ff-405a-a811-0578b997d85a",
   "metadata": {
    "colab": {
     "base_uri": "https://localhost:8080/",
     "height": 49,
     "referenced_widgets": [
      "b4612dd9fcbe43a09147ba463251985b",
      "81494da8a21d4a8487ffdb7e93803e5d",
      "fcac59da199444d1a9d884349655d4f6",
      "ab4c9b0cc98a44b79a059e51a249fe24",
      "c5fe7341b58c4e56a50fe6776b3a4a8a",
      "4265fa8b83f745e48b3be8289295e1db",
      "297467f81fac4c34942723197fa3feef",
      "a40dce6727604936a7d0f94446a682fb",
      "4dfa7edd476341b09a580eda41b23bd1",
      "943355a724604d3b8d55a9090c58748e",
      "798f23818ea645639d51185a5d170237"
     ]
    },
    "id": "59b7c50c-46ff-405a-a811-0578b997d85a",
    "outputId": "c2c10474-8164-4d6d-d209-dd8747d19ed0"
   },
   "outputs": [],
   "source": [
    "train_features = extract_features(train['image'])\n"
   ]
  },
  {
   "cell_type": "code",
   "execution_count": null,
   "id": "be1cdfb5-6476-4a87-9148-f59d798bfa90",
   "metadata": {
    "colab": {
     "base_uri": "https://localhost:8080/",
     "height": 49,
     "referenced_widgets": [
      "0d2ffecb675a4327b05591f880cdf2d2",
      "a0928d8828cf403894740859a6915c36",
      "1cb4d758387445968201201ed52bbee3",
      "eab847f561d44ea6abaf4e87a4d014d9",
      "e79b9b94e5db47eea059362c980e2cb4",
      "75802cfd34c94433be0230f3c0368fc1",
      "d9a619024348419b9bea69d1039446bd",
      "7e7b9259a61e414cad1aff16acdd24bc",
      "9e246fcb498741d4a438d0bcbd63a2f4",
      "f3dea08dd8054173bb2bf13b34449212",
      "bc3aa8cd4d9d4da1a7deb9fa25079b46"
     ]
    },
    "id": "be1cdfb5-6476-4a87-9148-f59d798bfa90",
    "outputId": "64e642a8-55a2-47d3-9766-5eb761a50d59"
   },
   "outputs": [],
   "source": [
    "test_features = extract_features(test['image'])"
   ]
  },
  {
   "cell_type": "code",
   "execution_count": null,
   "id": "fa5823ec-e317-4327-8d9b-da294c7e3a8a",
   "metadata": {
    "id": "fa5823ec-e317-4327-8d9b-da294c7e3a8a"
   },
   "outputs": [],
   "source": [
    "x_train = train_features/255.0\n",
    "\n",
    "x_test = test_features/255.0\n"
   ]
  },
  {
   "cell_type": "code",
   "execution_count": null,
   "id": "46941721-05ae-4427-afac-04b2ebc4dd7c",
   "metadata": {
    "id": "46941721-05ae-4427-afac-04b2ebc4dd7c"
   },
   "outputs": [],
   "source": [
    "## convert label to integer\n",
    "from sklearn.preprocessing import LabelEncoder\n",
    "le = LabelEncoder()\n",
    "le.fit(train['label'])\n",
    "y_train = le.transform(train['label'])\n",
    "y_test = le.transform(test['label'])"
   ]
  },
  {
   "cell_type": "code",
   "execution_count": null,
   "id": "b98103a1-fefd-4102-b74b-c02bc7364231",
   "metadata": {
    "id": "b98103a1-fefd-4102-b74b-c02bc7364231"
   },
   "outputs": [],
   "source": [
    "y_train = to_categorical(y_train, num_classes=7)\n",
    "y_test = to_categorical(y_test, num_classes=7)"
   ]
  },
  {
   "cell_type": "code",
   "execution_count": null,
   "id": "a7bc4dc2-51dd-4a0a-9d49-fe278c17e460",
   "metadata": {
    "colab": {
     "base_uri": "https://localhost:8080/"
    },
    "id": "a7bc4dc2-51dd-4a0a-9d49-fe278c17e460",
    "outputId": "681db7ae-0a13-40dd-b6f9-895daf777392"
   },
   "outputs": [],
   "source": [
    "y_train[0]"
   ]
  },
  {
   "cell_type": "code",
   "execution_count": null,
   "id": "712bfc6c-74ab-4fc4-b754-79617c8e0a17",
   "metadata": {
    "id": "712bfc6c-74ab-4fc4-b754-79617c8e0a17"
   },
   "outputs": [],
   "source": [
    "# config\n",
    "input_shape = (48, 48, 1)\n",
    "output_class = 7"
   ]
  },
  {
   "cell_type": "code",
   "execution_count": null,
   "id": "cUjnkQjkn7Fj",
   "metadata": {
    "id": "cUjnkQjkn7Fj"
   },
   "outputs": [],
   "source": [
    "img_width = x_train.shape[1]\n",
    "img_height = x_train.shape[2]\n",
    "img_depth = x_train.shape[3]\n",
    "num_classes = y_train.shape[1]\n"
   ]
  },
  {
   "cell_type": "markdown",
   "id": "02bb74de-cc40-4f84-9658-b788220a02a1",
   "metadata": {
    "id": "02bb74de-cc40-4f84-9658-b788220a02a1"
   },
   "source": [
    "## Model Creation"
   ]
  },
  {
   "cell_type": "code",
   "execution_count": null,
   "id": "dc19e26c-5f68-46a4-bce7-f86e3436aa67",
   "metadata": {
    "id": "dc19e26c-5f68-46a4-bce7-f86e3436aa67"
   },
   "outputs": [],
   "source": [
    "# @title\n",
    "# # model = Sequential()\n",
    "# # # convolutional layers\n",
    "# # model.add(Conv2D(128, kernel_size=(3,3), activation='relu', input_shape=input_shape))\n",
    "# # model.add(MaxPooling2D(pool_size=(2,2)))\n",
    "# # model.add(Dropout(0.4))\n",
    "\n",
    "# # model.add(Conv2D(256, kernel_size=(3,3), activation='relu'))\n",
    "# # model.add(MaxPooling2D(pool_size=(2,2)))\n",
    "# # model.add(Dropout(0.4))\n",
    "\n",
    "# # model.add(Conv2D(512, kernel_size=(3,3), activation='relu'))\n",
    "# # model.add(MaxPooling2D(pool_size=(2,2)))\n",
    "# # model.add(Dropout(0.4))\n",
    "\n",
    "# # model.add(Conv2D(512, kernel_size=(3,3), activation='relu'))\n",
    "# # model.add(MaxPooling2D(pool_size=(2,2)))\n",
    "# # model.add(Dropout(0.4))\n",
    "\n",
    "# # model.add(Flatten())\n",
    "# # # fully connected layers\n",
    "# # model.add(Dense(512, activation='relu'))\n",
    "# # model.add(Dropout(0.4))\n",
    "# # model.add(Dense(256, activation='relu'))\n",
    "# # model.add(Dropout(0.3))\n",
    "# # # output layer\n",
    "# # model.add(Dense(output_class, activation='softmax'))\n",
    "\n",
    "# # model.compile(optimizer='adam', loss='categorical_crossentropy', metrics=['accuracy'])\n",
    "# def build_net(optim):\n",
    "#     \"\"\"\n",
    "#     This is a Deep Convolutional Neural Network (DCNN). For generalization purpose I used dropouts in regular intervals.\n",
    "#     I used `ELU` as the activation because it avoids dying relu problem but also performed well as compared to LeakyRelu\n",
    "#     atleast in this case. `he_normal` kernel initializer is used as it suits ELU. BatchNormalization is also used for better\n",
    "#     results.\n",
    "#     \"\"\"\n",
    "#     net = Sequential(name='DCNN')\n",
    "\n",
    "#     net.add(\n",
    "#         Conv2D(\n",
    "#             filters=64,\n",
    "#             kernel_size=(5,5),\n",
    "#             input_shape=(img_width, img_height, img_depth),\n",
    "#             activation='relu',\n",
    "#             padding='same',\n",
    "#             name='conv2d_1'\n",
    "#         )\n",
    "#     )\n",
    "#     net.add(BatchNormalization(name='batchnorm_1'))\n",
    "#     net.add(\n",
    "#         Conv2D(\n",
    "#             filters=64,\n",
    "#             kernel_size=(5,5),\n",
    "#             activation='relu',\n",
    "#             padding='same',\n",
    "#             name='conv2d_2'\n",
    "#         )\n",
    "#     )\n",
    "#     net.add(BatchNormalization(name='batchnorm_2'))\n",
    "\n",
    "#     net.add(MaxPooling2D(pool_size=(2,2), name='maxpool2d_1'))\n",
    "#     net.add(Dropout(0.4, name='dropout_1'))\n",
    "\n",
    "#     net.add(\n",
    "#         Conv2D(\n",
    "#             filters=128,\n",
    "#             kernel_size=(3,3),\n",
    "#             activation='relu',\n",
    "#             padding='same',\n",
    "#             name='conv2d_3'\n",
    "#         )\n",
    "#     )\n",
    "#     net.add(BatchNormalization(name='batchnorm_3'))\n",
    "#     net.add(\n",
    "#         Conv2D(\n",
    "#             filters=128,\n",
    "#             kernel_size=(3,3),\n",
    "#             activation='relu',\n",
    "#             padding='same',\n",
    "#             name='conv2d_4'\n",
    "#         )\n",
    "#     )\n",
    "#     net.add(BatchNormalization(name='batchnorm_4'))\n",
    "\n",
    "#     net.add(MaxPooling2D(pool_size=(2,2), name='maxpool2d_2'))\n",
    "#     net.add(Dropout(0.4, name='dropout_2'))\n",
    "\n",
    "#     net.add(\n",
    "#         Conv2D(\n",
    "#             filters=256,\n",
    "#             kernel_size=(3,3),\n",
    "#             activation='relu',\n",
    "#             padding='same',\n",
    "#             name='conv2d_5'\n",
    "#         )\n",
    "#     )\n",
    "#     net.add(BatchNormalization(name='batchnorm_5'))\n",
    "#     net.add(\n",
    "#         Conv2D(\n",
    "#             filters=256,\n",
    "#             kernel_size=(3,3),\n",
    "#             activation='relu',\n",
    "#             padding='same',\n",
    "#             name='conv2d_6'\n",
    "#         )\n",
    "#     )\n",
    "#     net.add(BatchNormalization(name='batchnorm_6'))\n",
    "\n",
    "#     net.add(MaxPooling2D(pool_size=(2,2), name='maxpool2d_3'))\n",
    "#     net.add(Dropout(0.5, name='dropout_3'))\n",
    "\n",
    "#     net.add(Flatten(name='flatten'))\n",
    "\n",
    "#     net.add(\n",
    "#         Dense(\n",
    "#             128,\n",
    "#             activation='relu',\n",
    "#             name='dense_1'\n",
    "#         )\n",
    "#     )\n",
    "#     net.add(BatchNormalization(name='batchnorm_7'))\n",
    "\n",
    "#     net.add(Dropout(0.6, name='dropout_4'))\n",
    "\n",
    "#     net.add(\n",
    "#         Dense(\n",
    "#             num_classes,\n",
    "#             activation='softmax',\n",
    "#             name='out_layer'\n",
    "#         )\n",
    "#     )\n",
    "\n",
    "#     net.compile(\n",
    "#         loss='categorical_crossentropy',\n",
    "#         optimizer=optim,\n",
    "#         metrics=['accuracy']\n",
    "#     )\n",
    "\n",
    "#     net.summary()\n",
    "\n",
    "#     return net\n",
    "\n",
    "def build_net(optim):\n",
    "    # L2 regularizer\n",
    "    reg = tf.keras.regularizers.l2(1e-4)\n",
    "\n",
    "    net = Sequential(name='DCNN')\n",
    "\n",
    "    # First block\n",
    "    net.add(Conv2D(32, (3,3), input_shape=(img_width, img_height, img_depth),\n",
    "                   activation='relu', padding='same', kernel_regularizer=reg))\n",
    "    net.add(BatchNormalization())\n",
    "    net.add(Conv2D(32, (3,3), activation='relu', padding='same', kernel_regularizer=reg))\n",
    "    net.add(BatchNormalization())\n",
    "    net.add(MaxPooling2D(pool_size=(2,2)))\n",
    "    net.add(Dropout(0.2))\n",
    "\n",
    "    # Second block\n",
    "    net.add(Conv2D(64, (3,3), activation='relu', padding='same', kernel_regularizer=reg))\n",
    "    net.add(BatchNormalization())\n",
    "    net.add(Conv2D(64, (3,3), activation='relu', padding='same', kernel_regularizer=reg))\n",
    "    net.add(BatchNormalization())\n",
    "    net.add(MaxPooling2D(pool_size=(2,2)))\n",
    "    net.add(Dropout(0.3))\n",
    "\n",
    "    # Third block\n",
    "    net.add(Conv2D(128, (3,3), activation='relu', padding='same', kernel_regularizer=reg))\n",
    "    net.add(BatchNormalization())\n",
    "    net.add(Conv2D(128, (3,3), activation='relu', padding='same', kernel_regularizer=reg))\n",
    "    net.add(BatchNormalization())\n",
    "    net.add(MaxPooling2D(pool_size=(2,2)))\n",
    "    net.add(Dropout(0.4))\n",
    "\n",
    "    net.add(Flatten())\n",
    "\n",
    "    # Dense layers\n",
    "    net.add(Dense(512, activation='relu', kernel_regularizer=reg))\n",
    "    net.add(BatchNormalization())\n",
    "    net.add(Dropout(0.5))\n",
    "\n",
    "    net.add(Dense(256, activation='relu', kernel_regularizer=reg))\n",
    "    net.add(BatchNormalization())\n",
    "    net.add(Dropout(0.5))\n",
    "\n",
    "    net.add(Dense(num_classes, activation='softmax'))\n",
    "\n",
    "    net.compile(\n",
    "        loss='categorical_crossentropy',\n",
    "        optimizer=optim,\n",
    "        metrics=['accuracy']\n",
    "    )\n",
    "\n",
    "    return net"
   ]
  },
  {
   "cell_type": "code",
   "execution_count": null,
   "id": "SjC7IlW1mczc",
   "metadata": {
    "id": "SjC7IlW1mczc"
   },
   "outputs": [],
   "source": [
    "\"\"\"\n",
    "I used two callbacks one is `early stopping` for avoiding overfitting training data\n",
    "and other `ReduceLROnPlateau` for learning rate.\n",
    "\"\"\"\n",
    "\n",
    "early_stopping = EarlyStopping(\n",
    "    monitor='val_accuracy',\n",
    "    patience=15,\n",
    "    verbose=1,\n",
    "    restore_best_weights=True,\n",
    ")\n",
    "\n",
    "lr_scheduler = ReduceLROnPlateau(\n",
    "    monitor='val_accuracy',\n",
    "    factor=0.7,\n",
    "    patience=5,\n",
    "    min_lr=1e-6,\n",
    "    verbose=1,\n",
    ")\n",
    "\n",
    "callbacks = [\n",
    "    early_stopping,\n",
    "    lr_scheduler,\n",
    "]"
   ]
  },
  {
   "cell_type": "code",
   "execution_count": null,
   "id": "EWXwGJl54N3O",
   "metadata": {
    "id": "EWXwGJl54N3O"
   },
   "outputs": [],
   "source": [
    "train_datagen = ImageDataGenerator(\n",
    "    rotation_range=10,\n",
    "    width_shift_range=0.1,\n",
    "    height_shift_range=0.1,\n",
    "    shear_range=0.1,\n",
    "    zoom_range=0.1,\n",
    "    horizontal_flip=True,\n",
    ")\n",
    "train_datagen.fit(x_train)"
   ]
  },
  {
   "cell_type": "code",
   "execution_count": null,
   "id": "6e75b62c-cd5f-4fc0-82e8-8852febd292f",
   "metadata": {
    "colab": {
     "base_uri": "https://localhost:8080/"
    },
    "id": "6e75b62c-cd5f-4fc0-82e8-8852febd292f",
    "outputId": "15c01d64-355f-4b44-e2ac-376180d2a9eb"
   },
   "outputs": [],
   "source": [
    "# train the model\n",
    "# history = model.fit(x=x_train, y=y_train, batch_size=128, epochs=100, validation_data=(x_test, y_test))\n",
    "epochs = 150\n",
    "batch_size=128\n",
    "\n",
    "model = build_net('adam')\n",
    "history = model.fit(\n",
    "    train_datagen.flow(x_train, y_train, batch_size=batch_size),\n",
    "    validation_data=(x_test, y_test),\n",
    "    steps_per_epoch=len(x_train) // batch_size,\n",
    "    epochs=epochs,\n",
    "    callbacks=callbacks,\n",
    ")\n"
   ]
  },
  {
   "cell_type": "markdown",
   "id": "8601eb3d-f540-4ccb-944d-5380ac2d1da3",
   "metadata": {
    "id": "8601eb3d-f540-4ccb-944d-5380ac2d1da3"
   },
   "source": [
    "## Plotting results\n"
   ]
  },
  {
   "cell_type": "code",
   "execution_count": null,
   "id": "f346221d-293f-41e0-a395-1a538f4a63b3",
   "metadata": {
    "id": "f346221d-293f-41e0-a395-1a538f4a63b3"
   },
   "outputs": [],
   "source": [
    "acc = history.history['accuracy']\n",
    "val_acc = history.history['val_accuracy']\n",
    "epochs = range(len(acc))\n",
    "\n",
    "plt.plot(epochs, acc, 'b', label='Training Accuracy')\n",
    "plt.plot(epochs, val_acc, 'r', label='Validation Accuracy')\n",
    "plt.title('Accuracy Graph')\n",
    "plt.legend()\n",
    "plt.figure()\n",
    "\n",
    "loss = history.history['loss']\n",
    "val_loss = history.history['val_loss']\n",
    "epochs = range(len(acc))\n",
    "\n",
    "plt.plot(epochs, loss, 'b', label='Training Loss')\n",
    "plt.plot(epochs, val_loss, 'r', label='Validation Loss')\n",
    "plt.title('Loss Graph')\n",
    "plt.legend()\n",
    "\n",
    "plt.show()"
   ]
  },
  {
   "cell_type": "markdown",
   "id": "f3665c71-0079-432f-8f39-ce6b2817e66a",
   "metadata": {
    "id": "f3665c71-0079-432f-8f39-ce6b2817e66a"
   },
   "source": [
    "## Testing"
   ]
  },
  {
   "cell_type": "code",
   "execution_count": null,
   "id": "20093192-29ad-4d2b-93f5-dddf868b20f5",
   "metadata": {
    "id": "20093192-29ad-4d2b-93f5-dddf868b20f5"
   },
   "outputs": [],
   "source": [
    "image_index = random.randint(0, len(test))\n",
    "print(\"Original Output:\", test['label'][image_index])\n",
    "pred = model.predict(x_test[image_index].reshape(1, 48, 48, 1))\n",
    "prediction_label = le.inverse_transform([pred.argmax()])[0]\n",
    "print(\"Predicted Output:\", prediction_label)\n",
    "plt.imshow(x_test[image_index].reshape(48, 48), cmap='gray');"
   ]
  },
  {
   "cell_type": "code",
   "execution_count": null,
   "id": "JxwuaQkW5WxJ",
   "metadata": {
    "id": "JxwuaQkW5WxJ"
   },
   "outputs": [],
   "source": [
    "def plot_confusion_matrix(y_true, y_pred, labels=None, figsize=(7, 7)):\n",
    "    \"\"\"\n",
    "    Plots a confusion matrix using seaborn and matplotlib.\n",
    "\n",
    "    Args:\n",
    "        y_true: True labels.\n",
    "        y_pred: Predicted labels.\n",
    "        labels: List of label names (optional).\n",
    "        figsize: Figure size (optional).\n",
    "    \"\"\"\n",
    "\n",
    "    cm = confusion_matrix(y_true, y_pred)\n",
    "    plt.figure(figsize=figsize)\n",
    "    sns.heatmap(cm, annot=True, fmt=\"d\", cmap=\"Blues\",\n",
    "                xticklabels=labels, yticklabels=labels)\n",
    "    plt.xlabel(\"Predicted\")\n",
    "    plt.ylabel(\"True\")\n",
    "    plt.title(\"Confusion Matrix\")\n",
    "    plt.show()\n"
   ]
  },
  {
   "cell_type": "code",
   "execution_count": null,
   "id": "_Qaip9RJ7kT5",
   "metadata": {
    "id": "_Qaip9RJ7kT5"
   },
   "outputs": [],
   "source": [
    "yhat_valid = np.argmax(model.predict(x_test), axis=-1)\n",
    "cm = confusion_matrix(np.argmax(y_test, axis=1), yhat_valid)\n",
    "plot_confusion_matrix(np.argmax(y_test, axis=1), yhat_valid, labels=le.classes_)"
   ]
  },
  {
   "cell_type": "code",
   "execution_count": null,
   "id": "atn15vAD7525",
   "metadata": {
    "id": "atn15vAD7525"
   },
   "outputs": [],
   "source": [
    "\n",
    "\n",
    "_, accuracy = model.evaluate(x_test, y_test)\n",
    "print(f\"Overall Accuracy: {accuracy * 100:.2f}%\")"
   ]
  },
  {
   "cell_type": "code",
   "execution_count": null,
   "id": "FX6SG1S38Eha",
   "metadata": {
    "id": "FX6SG1S38Eha"
   },
   "outputs": [],
   "source": [
    "def get_metrics_per_class(cm, class_labels):\n",
    "    metrics = {}\n",
    "    n_classes = len(class_labels)\n",
    "\n",
    "    for i in range(n_classes):\n",
    "        # True Positives\n",
    "        tp = cm[i, i]\n",
    "        # False Positives\n",
    "        fp = np.sum(cm[:, i]) - tp\n",
    "        # False Negatives\n",
    "        fn = np.sum(cm[i, :]) - tp\n",
    "        # True Negatives\n",
    "        tn = np.sum(cm) - (tp + fp + fn)\n",
    "\n",
    "        # Calculate metrics\n",
    "        precision = tp / (tp + fp) if (tp + fp) != 0 else 0\n",
    "        recall = tp / (tp + fn) if (tp + fn) != 0 else 0\n",
    "        f1 = 2 * (precision * recall) / (precision + recall) if (precision + recall) != 0 else 0\n",
    "\n",
    "        metrics[class_labels[i]] = {\n",
    "            'Precision': precision * 100,\n",
    "            'Recall': recall * 100,\n",
    "            'F1-Score': f1 * 100\n",
    "        }\n",
    "\n",
    "    # Calculate overall accuracy\n",
    "    accuracy = np.sum(np.diag(cm)) / np.sum(cm) * 100\n",
    "\n",
    "    return metrics, accuracy"
   ]
  },
  {
   "cell_type": "code",
   "execution_count": null,
   "id": "Yug620uUA--T",
   "metadata": {
    "id": "Yug620uUA--T"
   },
   "outputs": [],
   "source": [
    "# Get and display metrics\n",
    "metrics, accuracy = get_metrics_per_class(cm, le.classes_)\n",
    "\n",
    "# Display results in a DataFrame\n",
    "metrics_df = pd.DataFrame(metrics).T\n",
    "print(\"\\nMetrics per class:\")\n",
    "print(metrics_df.round(2))\n",
    "print(f\"\\nOverall Accuracy: {accuracy:.2f}%\")\n"
   ]
  }
 ],
 "metadata": {
  "accelerator": "GPU",
  "colab": {
   "gpuType": "T4",
   "provenance": []
  },
  "kernelspec": {
   "display_name": "Python 3 (ipykernel)",
   "language": "python",
   "name": "python3"
  },
  "language_info": {
   "codemirror_mode": {
    "name": "ipython",
    "version": 3
   },
   "file_extension": ".py",
   "mimetype": "text/x-python",
   "name": "python",
   "nbconvert_exporter": "python",
   "pygments_lexer": "ipython3",
   "version": "3.12.4"
  },
  "widgets": {
   "application/vnd.jupyter.widget-state+json": {
    "0d2ffecb675a4327b05591f880cdf2d2": {
     "model_module": "@jupyter-widgets/controls",
     "model_module_version": "1.5.0",
     "model_name": "HBoxModel",
     "state": {
      "_dom_classes": [],
      "_model_module": "@jupyter-widgets/controls",
      "_model_module_version": "1.5.0",
      "_model_name": "HBoxModel",
      "_view_count": null,
      "_view_module": "@jupyter-widgets/controls",
      "_view_module_version": "1.5.0",
      "_view_name": "HBoxView",
      "box_style": "",
      "children": [
       "IPY_MODEL_a0928d8828cf403894740859a6915c36",
       "IPY_MODEL_1cb4d758387445968201201ed52bbee3",
       "IPY_MODEL_eab847f561d44ea6abaf4e87a4d014d9"
      ],
      "layout": "IPY_MODEL_e79b9b94e5db47eea059362c980e2cb4"
     }
    },
    "1cb4d758387445968201201ed52bbee3": {
     "model_module": "@jupyter-widgets/controls",
     "model_module_version": "1.5.0",
     "model_name": "FloatProgressModel",
     "state": {
      "_dom_classes": [],
      "_model_module": "@jupyter-widgets/controls",
      "_model_module_version": "1.5.0",
      "_model_name": "FloatProgressModel",
      "_view_count": null,
      "_view_module": "@jupyter-widgets/controls",
      "_view_module_version": "1.5.0",
      "_view_name": "ProgressView",
      "bar_style": "success",
      "description": "",
      "description_tooltip": null,
      "layout": "IPY_MODEL_7e7b9259a61e414cad1aff16acdd24bc",
      "max": 7178,
      "min": 0,
      "orientation": "horizontal",
      "style": "IPY_MODEL_9e246fcb498741d4a438d0bcbd63a2f4",
      "value": 7178
     }
    },
    "297467f81fac4c34942723197fa3feef": {
     "model_module": "@jupyter-widgets/controls",
     "model_module_version": "1.5.0",
     "model_name": "DescriptionStyleModel",
     "state": {
      "_model_module": "@jupyter-widgets/controls",
      "_model_module_version": "1.5.0",
      "_model_name": "DescriptionStyleModel",
      "_view_count": null,
      "_view_module": "@jupyter-widgets/base",
      "_view_module_version": "1.2.0",
      "_view_name": "StyleView",
      "description_width": ""
     }
    },
    "4265fa8b83f745e48b3be8289295e1db": {
     "model_module": "@jupyter-widgets/base",
     "model_module_version": "1.2.0",
     "model_name": "LayoutModel",
     "state": {
      "_model_module": "@jupyter-widgets/base",
      "_model_module_version": "1.2.0",
      "_model_name": "LayoutModel",
      "_view_count": null,
      "_view_module": "@jupyter-widgets/base",
      "_view_module_version": "1.2.0",
      "_view_name": "LayoutView",
      "align_content": null,
      "align_items": null,
      "align_self": null,
      "border": null,
      "bottom": null,
      "display": null,
      "flex": null,
      "flex_flow": null,
      "grid_area": null,
      "grid_auto_columns": null,
      "grid_auto_flow": null,
      "grid_auto_rows": null,
      "grid_column": null,
      "grid_gap": null,
      "grid_row": null,
      "grid_template_areas": null,
      "grid_template_columns": null,
      "grid_template_rows": null,
      "height": null,
      "justify_content": null,
      "justify_items": null,
      "left": null,
      "margin": null,
      "max_height": null,
      "max_width": null,
      "min_height": null,
      "min_width": null,
      "object_fit": null,
      "object_position": null,
      "order": null,
      "overflow": null,
      "overflow_x": null,
      "overflow_y": null,
      "padding": null,
      "right": null,
      "top": null,
      "visibility": null,
      "width": null
     }
    },
    "4dfa7edd476341b09a580eda41b23bd1": {
     "model_module": "@jupyter-widgets/controls",
     "model_module_version": "1.5.0",
     "model_name": "ProgressStyleModel",
     "state": {
      "_model_module": "@jupyter-widgets/controls",
      "_model_module_version": "1.5.0",
      "_model_name": "ProgressStyleModel",
      "_view_count": null,
      "_view_module": "@jupyter-widgets/base",
      "_view_module_version": "1.2.0",
      "_view_name": "StyleView",
      "bar_color": null,
      "description_width": ""
     }
    },
    "75802cfd34c94433be0230f3c0368fc1": {
     "model_module": "@jupyter-widgets/base",
     "model_module_version": "1.2.0",
     "model_name": "LayoutModel",
     "state": {
      "_model_module": "@jupyter-widgets/base",
      "_model_module_version": "1.2.0",
      "_model_name": "LayoutModel",
      "_view_count": null,
      "_view_module": "@jupyter-widgets/base",
      "_view_module_version": "1.2.0",
      "_view_name": "LayoutView",
      "align_content": null,
      "align_items": null,
      "align_self": null,
      "border": null,
      "bottom": null,
      "display": null,
      "flex": null,
      "flex_flow": null,
      "grid_area": null,
      "grid_auto_columns": null,
      "grid_auto_flow": null,
      "grid_auto_rows": null,
      "grid_column": null,
      "grid_gap": null,
      "grid_row": null,
      "grid_template_areas": null,
      "grid_template_columns": null,
      "grid_template_rows": null,
      "height": null,
      "justify_content": null,
      "justify_items": null,
      "left": null,
      "margin": null,
      "max_height": null,
      "max_width": null,
      "min_height": null,
      "min_width": null,
      "object_fit": null,
      "object_position": null,
      "order": null,
      "overflow": null,
      "overflow_x": null,
      "overflow_y": null,
      "padding": null,
      "right": null,
      "top": null,
      "visibility": null,
      "width": null
     }
    },
    "798f23818ea645639d51185a5d170237": {
     "model_module": "@jupyter-widgets/controls",
     "model_module_version": "1.5.0",
     "model_name": "DescriptionStyleModel",
     "state": {
      "_model_module": "@jupyter-widgets/controls",
      "_model_module_version": "1.5.0",
      "_model_name": "DescriptionStyleModel",
      "_view_count": null,
      "_view_module": "@jupyter-widgets/base",
      "_view_module_version": "1.2.0",
      "_view_name": "StyleView",
      "description_width": ""
     }
    },
    "7e7b9259a61e414cad1aff16acdd24bc": {
     "model_module": "@jupyter-widgets/base",
     "model_module_version": "1.2.0",
     "model_name": "LayoutModel",
     "state": {
      "_model_module": "@jupyter-widgets/base",
      "_model_module_version": "1.2.0",
      "_model_name": "LayoutModel",
      "_view_count": null,
      "_view_module": "@jupyter-widgets/base",
      "_view_module_version": "1.2.0",
      "_view_name": "LayoutView",
      "align_content": null,
      "align_items": null,
      "align_self": null,
      "border": null,
      "bottom": null,
      "display": null,
      "flex": null,
      "flex_flow": null,
      "grid_area": null,
      "grid_auto_columns": null,
      "grid_auto_flow": null,
      "grid_auto_rows": null,
      "grid_column": null,
      "grid_gap": null,
      "grid_row": null,
      "grid_template_areas": null,
      "grid_template_columns": null,
      "grid_template_rows": null,
      "height": null,
      "justify_content": null,
      "justify_items": null,
      "left": null,
      "margin": null,
      "max_height": null,
      "max_width": null,
      "min_height": null,
      "min_width": null,
      "object_fit": null,
      "object_position": null,
      "order": null,
      "overflow": null,
      "overflow_x": null,
      "overflow_y": null,
      "padding": null,
      "right": null,
      "top": null,
      "visibility": null,
      "width": null
     }
    },
    "81494da8a21d4a8487ffdb7e93803e5d": {
     "model_module": "@jupyter-widgets/controls",
     "model_module_version": "1.5.0",
     "model_name": "HTMLModel",
     "state": {
      "_dom_classes": [],
      "_model_module": "@jupyter-widgets/controls",
      "_model_module_version": "1.5.0",
      "_model_name": "HTMLModel",
      "_view_count": null,
      "_view_module": "@jupyter-widgets/controls",
      "_view_module_version": "1.5.0",
      "_view_name": "HTMLView",
      "description": "",
      "description_tooltip": null,
      "layout": "IPY_MODEL_4265fa8b83f745e48b3be8289295e1db",
      "placeholder": "​",
      "style": "IPY_MODEL_297467f81fac4c34942723197fa3feef",
      "value": "100%"
     }
    },
    "943355a724604d3b8d55a9090c58748e": {
     "model_module": "@jupyter-widgets/base",
     "model_module_version": "1.2.0",
     "model_name": "LayoutModel",
     "state": {
      "_model_module": "@jupyter-widgets/base",
      "_model_module_version": "1.2.0",
      "_model_name": "LayoutModel",
      "_view_count": null,
      "_view_module": "@jupyter-widgets/base",
      "_view_module_version": "1.2.0",
      "_view_name": "LayoutView",
      "align_content": null,
      "align_items": null,
      "align_self": null,
      "border": null,
      "bottom": null,
      "display": null,
      "flex": null,
      "flex_flow": null,
      "grid_area": null,
      "grid_auto_columns": null,
      "grid_auto_flow": null,
      "grid_auto_rows": null,
      "grid_column": null,
      "grid_gap": null,
      "grid_row": null,
      "grid_template_areas": null,
      "grid_template_columns": null,
      "grid_template_rows": null,
      "height": null,
      "justify_content": null,
      "justify_items": null,
      "left": null,
      "margin": null,
      "max_height": null,
      "max_width": null,
      "min_height": null,
      "min_width": null,
      "object_fit": null,
      "object_position": null,
      "order": null,
      "overflow": null,
      "overflow_x": null,
      "overflow_y": null,
      "padding": null,
      "right": null,
      "top": null,
      "visibility": null,
      "width": null
     }
    },
    "9e246fcb498741d4a438d0bcbd63a2f4": {
     "model_module": "@jupyter-widgets/controls",
     "model_module_version": "1.5.0",
     "model_name": "ProgressStyleModel",
     "state": {
      "_model_module": "@jupyter-widgets/controls",
      "_model_module_version": "1.5.0",
      "_model_name": "ProgressStyleModel",
      "_view_count": null,
      "_view_module": "@jupyter-widgets/base",
      "_view_module_version": "1.2.0",
      "_view_name": "StyleView",
      "bar_color": null,
      "description_width": ""
     }
    },
    "a0928d8828cf403894740859a6915c36": {
     "model_module": "@jupyter-widgets/controls",
     "model_module_version": "1.5.0",
     "model_name": "HTMLModel",
     "state": {
      "_dom_classes": [],
      "_model_module": "@jupyter-widgets/controls",
      "_model_module_version": "1.5.0",
      "_model_name": "HTMLModel",
      "_view_count": null,
      "_view_module": "@jupyter-widgets/controls",
      "_view_module_version": "1.5.0",
      "_view_name": "HTMLView",
      "description": "",
      "description_tooltip": null,
      "layout": "IPY_MODEL_75802cfd34c94433be0230f3c0368fc1",
      "placeholder": "​",
      "style": "IPY_MODEL_d9a619024348419b9bea69d1039446bd",
      "value": "100%"
     }
    },
    "a40dce6727604936a7d0f94446a682fb": {
     "model_module": "@jupyter-widgets/base",
     "model_module_version": "1.2.0",
     "model_name": "LayoutModel",
     "state": {
      "_model_module": "@jupyter-widgets/base",
      "_model_module_version": "1.2.0",
      "_model_name": "LayoutModel",
      "_view_count": null,
      "_view_module": "@jupyter-widgets/base",
      "_view_module_version": "1.2.0",
      "_view_name": "LayoutView",
      "align_content": null,
      "align_items": null,
      "align_self": null,
      "border": null,
      "bottom": null,
      "display": null,
      "flex": null,
      "flex_flow": null,
      "grid_area": null,
      "grid_auto_columns": null,
      "grid_auto_flow": null,
      "grid_auto_rows": null,
      "grid_column": null,
      "grid_gap": null,
      "grid_row": null,
      "grid_template_areas": null,
      "grid_template_columns": null,
      "grid_template_rows": null,
      "height": null,
      "justify_content": null,
      "justify_items": null,
      "left": null,
      "margin": null,
      "max_height": null,
      "max_width": null,
      "min_height": null,
      "min_width": null,
      "object_fit": null,
      "object_position": null,
      "order": null,
      "overflow": null,
      "overflow_x": null,
      "overflow_y": null,
      "padding": null,
      "right": null,
      "top": null,
      "visibility": null,
      "width": null
     }
    },
    "ab4c9b0cc98a44b79a059e51a249fe24": {
     "model_module": "@jupyter-widgets/controls",
     "model_module_version": "1.5.0",
     "model_name": "HTMLModel",
     "state": {
      "_dom_classes": [],
      "_model_module": "@jupyter-widgets/controls",
      "_model_module_version": "1.5.0",
      "_model_name": "HTMLModel",
      "_view_count": null,
      "_view_module": "@jupyter-widgets/controls",
      "_view_module_version": "1.5.0",
      "_view_name": "HTMLView",
      "description": "",
      "description_tooltip": null,
      "layout": "IPY_MODEL_943355a724604d3b8d55a9090c58748e",
      "placeholder": "​",
      "style": "IPY_MODEL_798f23818ea645639d51185a5d170237",
      "value": " 28709/28709 [00:11&lt;00:00, 6420.23it/s]"
     }
    },
    "b4612dd9fcbe43a09147ba463251985b": {
     "model_module": "@jupyter-widgets/controls",
     "model_module_version": "1.5.0",
     "model_name": "HBoxModel",
     "state": {
      "_dom_classes": [],
      "_model_module": "@jupyter-widgets/controls",
      "_model_module_version": "1.5.0",
      "_model_name": "HBoxModel",
      "_view_count": null,
      "_view_module": "@jupyter-widgets/controls",
      "_view_module_version": "1.5.0",
      "_view_name": "HBoxView",
      "box_style": "",
      "children": [
       "IPY_MODEL_81494da8a21d4a8487ffdb7e93803e5d",
       "IPY_MODEL_fcac59da199444d1a9d884349655d4f6",
       "IPY_MODEL_ab4c9b0cc98a44b79a059e51a249fe24"
      ],
      "layout": "IPY_MODEL_c5fe7341b58c4e56a50fe6776b3a4a8a"
     }
    },
    "bc3aa8cd4d9d4da1a7deb9fa25079b46": {
     "model_module": "@jupyter-widgets/controls",
     "model_module_version": "1.5.0",
     "model_name": "DescriptionStyleModel",
     "state": {
      "_model_module": "@jupyter-widgets/controls",
      "_model_module_version": "1.5.0",
      "_model_name": "DescriptionStyleModel",
      "_view_count": null,
      "_view_module": "@jupyter-widgets/base",
      "_view_module_version": "1.2.0",
      "_view_name": "StyleView",
      "description_width": ""
     }
    },
    "c5fe7341b58c4e56a50fe6776b3a4a8a": {
     "model_module": "@jupyter-widgets/base",
     "model_module_version": "1.2.0",
     "model_name": "LayoutModel",
     "state": {
      "_model_module": "@jupyter-widgets/base",
      "_model_module_version": "1.2.0",
      "_model_name": "LayoutModel",
      "_view_count": null,
      "_view_module": "@jupyter-widgets/base",
      "_view_module_version": "1.2.0",
      "_view_name": "LayoutView",
      "align_content": null,
      "align_items": null,
      "align_self": null,
      "border": null,
      "bottom": null,
      "display": null,
      "flex": null,
      "flex_flow": null,
      "grid_area": null,
      "grid_auto_columns": null,
      "grid_auto_flow": null,
      "grid_auto_rows": null,
      "grid_column": null,
      "grid_gap": null,
      "grid_row": null,
      "grid_template_areas": null,
      "grid_template_columns": null,
      "grid_template_rows": null,
      "height": null,
      "justify_content": null,
      "justify_items": null,
      "left": null,
      "margin": null,
      "max_height": null,
      "max_width": null,
      "min_height": null,
      "min_width": null,
      "object_fit": null,
      "object_position": null,
      "order": null,
      "overflow": null,
      "overflow_x": null,
      "overflow_y": null,
      "padding": null,
      "right": null,
      "top": null,
      "visibility": null,
      "width": null
     }
    },
    "d9a619024348419b9bea69d1039446bd": {
     "model_module": "@jupyter-widgets/controls",
     "model_module_version": "1.5.0",
     "model_name": "DescriptionStyleModel",
     "state": {
      "_model_module": "@jupyter-widgets/controls",
      "_model_module_version": "1.5.0",
      "_model_name": "DescriptionStyleModel",
      "_view_count": null,
      "_view_module": "@jupyter-widgets/base",
      "_view_module_version": "1.2.0",
      "_view_name": "StyleView",
      "description_width": ""
     }
    },
    "e79b9b94e5db47eea059362c980e2cb4": {
     "model_module": "@jupyter-widgets/base",
     "model_module_version": "1.2.0",
     "model_name": "LayoutModel",
     "state": {
      "_model_module": "@jupyter-widgets/base",
      "_model_module_version": "1.2.0",
      "_model_name": "LayoutModel",
      "_view_count": null,
      "_view_module": "@jupyter-widgets/base",
      "_view_module_version": "1.2.0",
      "_view_name": "LayoutView",
      "align_content": null,
      "align_items": null,
      "align_self": null,
      "border": null,
      "bottom": null,
      "display": null,
      "flex": null,
      "flex_flow": null,
      "grid_area": null,
      "grid_auto_columns": null,
      "grid_auto_flow": null,
      "grid_auto_rows": null,
      "grid_column": null,
      "grid_gap": null,
      "grid_row": null,
      "grid_template_areas": null,
      "grid_template_columns": null,
      "grid_template_rows": null,
      "height": null,
      "justify_content": null,
      "justify_items": null,
      "left": null,
      "margin": null,
      "max_height": null,
      "max_width": null,
      "min_height": null,
      "min_width": null,
      "object_fit": null,
      "object_position": null,
      "order": null,
      "overflow": null,
      "overflow_x": null,
      "overflow_y": null,
      "padding": null,
      "right": null,
      "top": null,
      "visibility": null,
      "width": null
     }
    },
    "eab847f561d44ea6abaf4e87a4d014d9": {
     "model_module": "@jupyter-widgets/controls",
     "model_module_version": "1.5.0",
     "model_name": "HTMLModel",
     "state": {
      "_dom_classes": [],
      "_model_module": "@jupyter-widgets/controls",
      "_model_module_version": "1.5.0",
      "_model_name": "HTMLModel",
      "_view_count": null,
      "_view_module": "@jupyter-widgets/controls",
      "_view_module_version": "1.5.0",
      "_view_name": "HTMLView",
      "description": "",
      "description_tooltip": null,
      "layout": "IPY_MODEL_f3dea08dd8054173bb2bf13b34449212",
      "placeholder": "​",
      "style": "IPY_MODEL_bc3aa8cd4d9d4da1a7deb9fa25079b46",
      "value": " 7178/7178 [00:01&lt;00:00, 7176.19it/s]"
     }
    },
    "f3dea08dd8054173bb2bf13b34449212": {
     "model_module": "@jupyter-widgets/base",
     "model_module_version": "1.2.0",
     "model_name": "LayoutModel",
     "state": {
      "_model_module": "@jupyter-widgets/base",
      "_model_module_version": "1.2.0",
      "_model_name": "LayoutModel",
      "_view_count": null,
      "_view_module": "@jupyter-widgets/base",
      "_view_module_version": "1.2.0",
      "_view_name": "LayoutView",
      "align_content": null,
      "align_items": null,
      "align_self": null,
      "border": null,
      "bottom": null,
      "display": null,
      "flex": null,
      "flex_flow": null,
      "grid_area": null,
      "grid_auto_columns": null,
      "grid_auto_flow": null,
      "grid_auto_rows": null,
      "grid_column": null,
      "grid_gap": null,
      "grid_row": null,
      "grid_template_areas": null,
      "grid_template_columns": null,
      "grid_template_rows": null,
      "height": null,
      "justify_content": null,
      "justify_items": null,
      "left": null,
      "margin": null,
      "max_height": null,
      "max_width": null,
      "min_height": null,
      "min_width": null,
      "object_fit": null,
      "object_position": null,
      "order": null,
      "overflow": null,
      "overflow_x": null,
      "overflow_y": null,
      "padding": null,
      "right": null,
      "top": null,
      "visibility": null,
      "width": null
     }
    },
    "fcac59da199444d1a9d884349655d4f6": {
     "model_module": "@jupyter-widgets/controls",
     "model_module_version": "1.5.0",
     "model_name": "FloatProgressModel",
     "state": {
      "_dom_classes": [],
      "_model_module": "@jupyter-widgets/controls",
      "_model_module_version": "1.5.0",
      "_model_name": "FloatProgressModel",
      "_view_count": null,
      "_view_module": "@jupyter-widgets/controls",
      "_view_module_version": "1.5.0",
      "_view_name": "ProgressView",
      "bar_style": "success",
      "description": "",
      "description_tooltip": null,
      "layout": "IPY_MODEL_a40dce6727604936a7d0f94446a682fb",
      "max": 28709,
      "min": 0,
      "orientation": "horizontal",
      "style": "IPY_MODEL_4dfa7edd476341b09a580eda41b23bd1",
      "value": 28709
     }
    }
   }
  }
 },
 "nbformat": 4,
 "nbformat_minor": 5
}
